{
 "cells": [
  {
   "cell_type": "code",
   "execution_count": null,
   "metadata": {},
   "outputs": [],
   "source": [
    "import pandas as pd\n",
    "import folium\n",
    "import json\n",
    "import requests\n",
    "import numpy as np"
   ]
  },
  {
   "cell_type": "code",
   "execution_count": null,
   "metadata": {},
   "outputs": [],
   "source": [
    "df_prefeituras_resumo_20_ = pd.read_pickle('df_prefeituras_resumo_20_pickle.pkl')"
   ]
  },
  {
   "cell_type": "code",
   "execution_count": null,
   "metadata": {},
   "outputs": [],
   "source": [
    "df_prefeituras_resumo_20_.head()"
   ]
  },
  {
   "cell_type": "code",
   "execution_count": null,
   "metadata": {},
   "outputs": [],
   "source": [
    "df_prefeituras_resumo_20_['CD_MUNICIPIO_IBGE'] = df_prefeituras_resumo_20_['CD_MUNICIPIO_IBGE'].apply(lambda x: str(x).replace('.0', ''))\n"
   ]
  },
  {
   "cell_type": "code",
   "execution_count": null,
   "metadata": {},
   "outputs": [],
   "source": [
    "df_prefeituras_resumo_20_.head()"
   ]
  },
  {
   "cell_type": "code",
   "execution_count": null,
   "metadata": {},
   "outputs": [],
   "source": [
    "br_cidades = 'cidades.json'\n",
    "\n",
    "geo_json_data = json.load(open(br_cidades))"
   ]
  },
  {
   "cell_type": "code",
   "execution_count": null,
   "metadata": {},
   "outputs": [],
   "source": [
    "# Tabela geral de municípios do IBGE\n",
    "df_ibge = pd.read_excel('RELATORIO_DTB_BRASIL_MUNICIPIO.xls', encoding = 'latin1')\n",
    "df_ibge['CD_MUNICIPIO_IBGE'] = df_ibge['Código Município Completo'].apply(lambda x: str(x))\n",
    "df_ibge = df_ibge[['CD_MUNICIPIO_IBGE']]\n"
   ]
  },
  {
   "cell_type": "code",
   "execution_count": null,
   "metadata": {},
   "outputs": [],
   "source": [
    "df_ibge.head()"
   ]
  },
  {
   "cell_type": "code",
   "execution_count": null,
   "metadata": {},
   "outputs": [],
   "source": [
    "df_cidades_mapa = df_ibge.merge(df_prefeituras_resumo_20_, on = 'CD_MUNICIPIO_IBGE', how = 'left')#.fillna('sem_info')\n",
    "\n",
    "def grupo_num(x):\n",
    "    if x['CD_MUNICIPIO_IBGE'] == '3157336':\n",
    "        y = 3\n",
    "    elif x['grupo_ideologico'] == 'intervencionista_progressista':\n",
    "        y = 0\n",
    "    elif x['grupo_ideologico'] == 'liberal_conservador':\n",
    "        y = .6\n",
    "    elif x['grupo_ideologico'] == 'liberal_progressista':\n",
    "        y = 1.1\n",
    "    else:\n",
    "        y = np.nan\n",
    "    return y\n",
    "\n",
    "df_cidades_mapa['grupo_num'] = df_cidades_mapa.apply(grupo_num, axis = 1)\n",
    "df_cidades_mapa = df_cidades_mapa[['CD_MUNICIPIO_IBGE', 'grupo_num']].set_index('CD_MUNICIPIO_IBGE')['grupo_num']\n"
   ]
  },
  {
   "cell_type": "code",
   "execution_count": null,
   "metadata": {},
   "outputs": [],
   "source": [
    "df_cidades_mapa.sample(10)"
   ]
  },
  {
   "cell_type": "code",
   "execution_count": null,
   "metadata": {},
   "outputs": [],
   "source": [
    "m = folium.Map( width=1000, height=800,\n",
    "    location=[-15.77972, -47.92972], \n",
    "    zoom_start=3)\n",
    "\n",
    "folium.Choropleth(\n",
    "    geo_data=geo_json_data,\n",
    "    name='Perfil Ideológico',\n",
    "    data=df_cidades_mapa,\n",
    "#    key_on='feature.id',\n",
    "    key_on='feature.properties.id',\n",
    "#    fill_color='YlOrRd',    \n",
    "    fill_color='Set1',\n",
    "    #threshold_scale=[0, 1, 2, 3],\n",
    "    line_opacity=0.1,\n",
    "    legend_name='Perfil'\n",
    ").add_to(m)\n",
    "\n",
    "folium.LayerControl().add_to(m)\n",
    "\n",
    "m"
   ]
  },
  {
   "cell_type": "code",
   "execution_count": null,
   "metadata": {},
   "outputs": [],
   "source": []
  }
 ],
 "metadata": {
  "kernelspec": {
   "display_name": "Python 3",
   "language": "python",
   "name": "python3"
  },
  "language_info": {
   "codemirror_mode": {
    "name": "ipython",
    "version": 3
   },
   "file_extension": ".py",
   "mimetype": "text/x-python",
   "name": "python",
   "nbconvert_exporter": "python",
   "pygments_lexer": "ipython3",
   "version": "3.7.1"
  }
 },
 "nbformat": 4,
 "nbformat_minor": 2
}
