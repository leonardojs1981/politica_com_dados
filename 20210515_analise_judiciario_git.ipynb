{
 "cells": [
  {
   "cell_type": "code",
   "execution_count": 4,
   "id": "furnished-auckland",
   "metadata": {},
   "outputs": [],
   "source": [
    "import pandas as pd\n",
    "pd.options.display.float_format = '{:,.2f}'.format\n",
    "import os\n",
    "import matplotlib as plt\n",
    "import numpy as np\n",
    "%matplotlib inline"
   ]
  },
  {
   "cell_type": "markdown",
   "id": "guided-geography",
   "metadata": {},
   "source": [
    "### 1. Carregando Tabelas\n",
    "Arquivos baixados do painel de remunerações de magistrados disponibilizado pelo CNJ: https://paineis.cnj.jus.br/QvAJAXZfc/opendoc.htm?document=qvw_l%2FPainelCNJ.qvw&host=QVS%40neodimio03&anonymous=true&sheet=shPORT63Relatorios"
   ]
  },
  {
   "cell_type": "code",
   "execution_count": null,
   "id": "phantom-republican",
   "metadata": {
    "scrolled": true
   },
   "outputs": [],
   "source": [
    "%%time\n",
    "\n",
    "# Remuneração resumida\n",
    "files = [ f for f in os.listdir('_dados_cnj/_geral/') if f != '.DS_Store']\n",
    "df_folha_resumida = pd.read_excel('_dados_cnj/_geral/' + files[0])\n",
    "\n",
    "for i in range(1,len(files)):\n",
    "    df_folha_resumida = pd.concat([df_folha_resumida, pd.read_excel('_dados_cnj/_geral/' + files[i])])\n",
    "    if i % 10 == 0:\n",
    "        print('resumida', i, len(df_folha_resumida))\n",
    "\n",
    "# Pessoais\n",
    "files = [ f for f in os.listdir('_dados_cnj/_pessoais/') if f != '.DS_Store']\n",
    "df_folha_pessoais = pd.read_excel('_dados_cnj/_pessoais/' + files[0])\n",
    "\n",
    "for i in range(1,len(files)):\n",
    "    df_folha_pessoais = pd.concat([df_folha_pessoais, pd.read_excel('_dados_cnj/_pessoais/' + files[i])])\n",
    "    if i % 10 == 0:\n",
    "        print('pessoais', i, len(df_folha_pessoais))\n",
    "        \n",
    "# Indenizações\n",
    "files = [ f for f in os.listdir('_dados_cnj/_indenizacoes/') if f != '.DS_Store']\n",
    "df_folha_indenizacoes = pd.read_excel('_dados_cnj/_indenizacoes/' + files[0])\n",
    "\n",
    "for i in range(1,len(files)):\n",
    "    df_folha_indenizacoes = pd.concat([df_folha_indenizacoes, pd.read_excel('_dados_cnj/_indenizacoes/' + files[i])])\n",
    "    if i % 10 == 0:\n",
    "        print('indenizacoes', i, len(df_folha_indenizacoes))\n",
    "        \n",
    "# Eventuais\n",
    "files = [ f for f in os.listdir('_dados_cnj/_eventuais/') if f != '.DS_Store']\n",
    "df_folha_eventuais = pd.read_excel('_dados_cnj/_eventuais/' + files[0])\n",
    "\n",
    "for i in range(1,len(files)):\n",
    "    df_folha_eventuais = pd.concat([df_folha_eventuais, pd.read_excel('_dados_cnj/_eventuais/' + files[i])])\n",
    "    if i % 10 == 0:\n",
    "        print('eventuais', i, len(df_folha_eventuais))"
   ]
  },
  {
   "cell_type": "code",
   "execution_count": null,
   "id": "opened-throat",
   "metadata": {},
   "outputs": [],
   "source": [
    "df_folha_resumida_ = df_folha_resumida.copy()\n",
    "df_folha_eventuais_ = df_folha_eventuais.copy()\n",
    "df_folha_pessoais_ = df_folha_pessoais.copy()\n",
    "df_folha_indenizacoes_ = df_folha_indenizacoes.copy()"
   ]
  },
  {
   "cell_type": "code",
   "execution_count": 5,
   "id": "sustainable-short",
   "metadata": {},
   "outputs": [],
   "source": [
    "df_folha_resumida_ = pd.read_pickle('df_folha_resumida_.pkl')\n",
    "df_folha_eventuais_ = pd.read_pickle('df_folha_eventuais_.pkl')\n",
    "df_folha_pessoais_ = pd.read_pickle('df_folha_pessoais_.pkl')\n",
    "df_folha_indenizacoes_ = pd.read_pickle('df_folha_indenizacoes_.pkl')"
   ]
  },
  {
   "cell_type": "markdown",
   "id": "stopped-humidity",
   "metadata": {},
   "source": [
    "### 2. Análise das remunerações"
   ]
  },
  {
   "cell_type": "markdown",
   "id": "right-secretary",
   "metadata": {},
   "source": [
    "##### 2.1. Ajustes iniciais e definição de escopo\n",
    "Crio um campo chamado \"abate-teto\", que é o valor absoluto do desconto (pois aparece com valor positivo ou negativo, a depender do tribunal).\n",
    "\n",
    "Crio um campo chamado \"remuneracao_bruta\", que significa todos os recebimentos do mês mais diárias e remuneração de outros órgãos, descontado o \"abate-teto\".\n",
    "\n",
    "Crio um campo de \"remuneração liquida\", que é a coluna \"Total (10) + (11) + (12).\n",
    "\n",
    "Crio um campo definido como \"grupo_tribunal\", com uma categorização dos tribunais.\n",
    "\n",
    "Desconsidero remunerações inferiores a R$ 20k, pois não existe magistrado recebendo menos que isso de vencimento básico (valores menores decorrem de ajustes de folha, que não interessam a esta análise).\n",
    "\n",
    "Desconsidero magistrados denominados \"0\", pois indicam que são linhas de somatório das tabelas, enviadas por engano pelo tribunal.\n",
    "\n",
    "Filtro os registros para considerar apenas folhas de 2019 e 2020\n"
   ]
  },
  {
   "cell_type": "code",
   "execution_count": 6,
   "id": "promising-ceremony",
   "metadata": {},
   "outputs": [
    {
     "name": "stdout",
     "output_type": "stream",
     "text": [
      "884805 Index(['Tribunal', 'Magistrado', 'Mês/Ano Ref.', 'Subsídio (R$)',\n",
      "       'Direitos Pessoais (1)', 'Indenizações (2)', 'Direitos Eventuais (3)',\n",
      "       'Total de Rendimentos (4)', 'Previdência Pública (5) (R$)',\n",
      "       'Imposto de Renda (6) (R$)', 'Descontos Diversos (7) (R$)',\n",
      "       'Retenção por Teto Constitucional (8) (R$)', 'Total de Descontos (9)',\n",
      "       'Rendimento Líquido (10)', 'Remuneração do órgão de origem (11) (R$)',\n",
      "       'Diárias (12) (R$)', 'Total (10)+(11)+(12)'],\n",
      "      dtype='object')\n"
     ]
    }
   ],
   "source": [
    "print(len(df_folha_resumida_), df_folha_resumida_.columns)"
   ]
  },
  {
   "cell_type": "code",
   "execution_count": 7,
   "id": "united-raise",
   "metadata": {},
   "outputs": [
    {
     "name": "stdout",
     "output_type": "stream",
     "text": [
      "884805 Index(['Tribunal', 'Magistrado', 'Mês/Ano Ref.',\n",
      "       'Abono constitucional de 1/3 de férias (R$)',\n",
      "       'Indenização de férias (R$)', 'Antecipação de férias (R$)',\n",
      "       'Gratificação natalina (R$)',\n",
      "       'Antecipação de gratificação natalina (R$)', 'Substituição (R$)',\n",
      "       'Gratificação por exercício cumulativo (R$)',\n",
      "       'Gratificação por encargo Curso/Concurso (R$)',\n",
      "       'Pagamentos retroativos (R$)', 'JETON (R$)', 'Outra (R$)', 'Detalhe',\n",
      "       'Outra (R$).1', 'Detalhe.1', 'Total de Direitos Eventuais'],\n",
      "      dtype='object')\n"
     ]
    }
   ],
   "source": [
    "print(len(df_folha_eventuais_), df_folha_eventuais_.columns)"
   ]
  },
  {
   "cell_type": "code",
   "execution_count": 8,
   "id": "manual-things",
   "metadata": {},
   "outputs": [
    {
     "name": "stdout",
     "output_type": "stream",
     "text": [
      "884805 Index(['Tribunal', 'Magistrado', 'Mês/Ano Ref.', 'Abono de permanência (R$)',\n",
      "       'Outra (R$)', 'Detalhe', 'Outra (R$).1', 'Detalhe.1',\n",
      "       'Total de Direitos Pessoais'],\n",
      "      dtype='object')\n"
     ]
    }
   ],
   "source": [
    "print(len(df_folha_pessoais_), df_folha_pessoais_.columns)"
   ]
  },
  {
   "cell_type": "code",
   "execution_count": 9,
   "id": "completed-david",
   "metadata": {},
   "outputs": [
    {
     "name": "stdout",
     "output_type": "stream",
     "text": [
      "884805 Index(['Tribunal', 'Magistrado', 'Mês/Ano Ref.', 'Auxílio-alimentação (R$)',\n",
      "       'Auxílio Pré-escolar (R$)', 'Auxílio Saúde (R$)',\n",
      "       'Auxílio Natalidade (R$)', 'Auxílio Moradia (R$)',\n",
      "       'Ajuda de Custo (R$)', 'Outra (R$)', 'Detalhe', 'Outra (R$).1',\n",
      "       'Detalhe.1', 'Outra (R$).2', 'Detalhe.2', 'Total Indenizações'],\n",
      "      dtype='object')\n"
     ]
    }
   ],
   "source": [
    "print(len(df_folha_indenizacoes_), df_folha_indenizacoes_.columns)"
   ]
  },
  {
   "cell_type": "code",
   "execution_count": 10,
   "id": "close-dryer",
   "metadata": {},
   "outputs": [],
   "source": [
    "def grupo_tribunal(x):\n",
    "    if x == 'CNJ':\n",
    "        y = 'CNJ'\n",
    "    elif x in ['STJ', 'TSE', 'STM', 'TST']:\n",
    "        y = 'Superiores (STJ, TSE, STM e TST)'\n",
    "    elif x in ['TJMMG', 'TJMSP', 'TJMRS']:\n",
    "        y = 'Justiça Militar (TJMMG, TJMSP, TJMRS)'\n",
    "    elif x[:3] == 'TRF':\n",
    "        y = 'Justiça Federal (TRFs)'\n",
    "    elif x[:3] == 'TRT':\n",
    "        y = 'Justiça do Trabalho (TRTs)'\n",
    "    else:\n",
    "        y = 'Justiça Estadual (TJs)'\n",
    "    return y\n",
    "\n",
    "for i in [df_folha_resumida_, df_folha_pessoais_, df_folha_indenizacoes_, df_folha_eventuais_]:\n",
    "    i['grupo_tribunal'] = i['Tribunal'].map(grupo_tribunal)"
   ]
  },
  {
   "cell_type": "code",
   "execution_count": 11,
   "id": "stylish-murder",
   "metadata": {},
   "outputs": [],
   "source": [
    "for i in [df_folha_resumida_, df_folha_pessoais_, df_folha_indenizacoes_, df_folha_eventuais_]:\n",
    "    i['ano'] = i['Mês/Ano Ref.'].apply(lambda x: x[-4:])"
   ]
  },
  {
   "cell_type": "code",
   "execution_count": 12,
   "id": "possible-requirement",
   "metadata": {},
   "outputs": [],
   "source": [
    "df_folha_resumida_['abate_teto'] = df_folha_resumida_['Retenção por Teto Constitucional (8) (R$)'].apply(lambda x: np.abs(x))"
   ]
  },
  {
   "cell_type": "code",
   "execution_count": 13,
   "id": "affecting-algebra",
   "metadata": {},
   "outputs": [],
   "source": [
    "df_folha_resumida_['remuneracao_bruta'] = df_folha_resumida_['Total de Rendimentos (4)'] + df_folha_resumida_['Remuneração do órgão de origem (11) (R$)'] + df_folha_resumida_['Diárias (12) (R$)'] - df_folha_resumida_['abate_teto']\n",
    "df_folha_resumida_['remuneracao_liquida'] = df_folha_resumida_['Total (10)+(11)+(12)']\n"
   ]
  },
  {
   "cell_type": "code",
   "execution_count": 14,
   "id": "anticipated-brighton",
   "metadata": {},
   "outputs": [],
   "source": [
    "df_folha_resumida_ = df_folha_resumida_[(df_folha_resumida_['Magistrado'] != '0') & (df_folha_resumida_['Total de Rendimentos (4)'] > 20000)]\n"
   ]
  },
  {
   "cell_type": "code",
   "execution_count": 15,
   "id": "opening-librarian",
   "metadata": {},
   "outputs": [],
   "source": [
    "df_folha_resumida_ = df_folha_resumida_[(df_folha_resumida_['ano'] == '2020') | (df_folha_resumida_['ano'] == '2019')]"
   ]
  },
  {
   "cell_type": "code",
   "execution_count": 16,
   "id": "superior-yorkshire",
   "metadata": {},
   "outputs": [
    {
     "data": {
      "text/plain": [
       "474671"
      ]
     },
     "execution_count": 16,
     "metadata": {},
     "output_type": "execute_result"
    }
   ],
   "source": [
    "len(df_folha_resumida_)"
   ]
  },
  {
   "cell_type": "markdown",
   "id": "operating-match",
   "metadata": {},
   "source": [
    "##### 2.2. Média anual por grupo de tribunais"
   ]
  },
  {
   "cell_type": "code",
   "execution_count": 17,
   "id": "laughing-whole",
   "metadata": {},
   "outputs": [],
   "source": [
    "df_folha_resumida_grupo_tribunal = df_folha_resumida_[['grupo_tribunal', 'ano', 'remuneracao_liquida', 'remuneracao_bruta']].pivot_table(index = ['grupo_tribunal'], columns = ['ano']).reset_index()\n"
   ]
  },
  {
   "cell_type": "code",
   "execution_count": 18,
   "id": "forbidden-binding",
   "metadata": {},
   "outputs": [
    {
     "data": {
      "text/plain": [
       "[('grupo_tribunal', ''),\n",
       " ('remuneracao_bruta', '2019'),\n",
       " ('remuneracao_bruta', '2020'),\n",
       " ('remuneracao_liquida', '2019'),\n",
       " ('remuneracao_liquida', '2020')]"
      ]
     },
     "execution_count": 18,
     "metadata": {},
     "output_type": "execute_result"
    }
   ],
   "source": [
    "list(df_folha_resumida_grupo_tribunal)"
   ]
  },
  {
   "cell_type": "code",
   "execution_count": 19,
   "id": "relative-classics",
   "metadata": {},
   "outputs": [],
   "source": [
    "df_folha_resumida_grupo_tribunal.columns = ['Grupo de Tribunais', 'Remuneração Bruta Mensal Média em 2019', 'Remuneração Bruta Mensal Média em 2020', 'Remuneração Líquida Mensal Média em 2019', 'Remuneração Líquida Mensal Média em 2020']\n"
   ]
  },
  {
   "cell_type": "code",
   "execution_count": 20,
   "id": "tough-brighton",
   "metadata": {},
   "outputs": [],
   "source": [
    "df_folha_resumida_grupo_tribunal['Variação % entre 2019 e 2020 - Líquida'] = df_folha_resumida_grupo_tribunal['Remuneração Líquida Mensal Média em 2020']/df_folha_resumida_grupo_tribunal['Remuneração Líquida Mensal Média em 2019']-1\n",
    "df_folha_resumida_grupo_tribunal['Variação % entre 2019 e 2020 - Bruta'] = df_folha_resumida_grupo_tribunal['Remuneração Bruta Mensal Média em 2020']/df_folha_resumida_grupo_tribunal['Remuneração Bruta Mensal Média em 2019']-1\n"
   ]
  },
  {
   "cell_type": "code",
   "execution_count": 21,
   "id": "classified-halloween",
   "metadata": {},
   "outputs": [
    {
     "data": {
      "text/html": [
       "<div>\n",
       "<style scoped>\n",
       "    .dataframe tbody tr th:only-of-type {\n",
       "        vertical-align: middle;\n",
       "    }\n",
       "\n",
       "    .dataframe tbody tr th {\n",
       "        vertical-align: top;\n",
       "    }\n",
       "\n",
       "    .dataframe thead th {\n",
       "        text-align: right;\n",
       "    }\n",
       "</style>\n",
       "<table border=\"1\" class=\"dataframe\">\n",
       "  <thead>\n",
       "    <tr style=\"text-align: right;\">\n",
       "      <th></th>\n",
       "      <th>Grupo de Tribunais</th>\n",
       "      <th>Remuneração Bruta Mensal Média em 2019</th>\n",
       "      <th>Remuneração Bruta Mensal Média em 2020</th>\n",
       "      <th>Variação % entre 2019 e 2020 - Bruta</th>\n",
       "    </tr>\n",
       "  </thead>\n",
       "  <tbody>\n",
       "    <tr>\n",
       "      <th>0</th>\n",
       "      <td>CNJ</td>\n",
       "      <td>62,634.50</td>\n",
       "      <td>55,686.22</td>\n",
       "      <td>-0.11</td>\n",
       "    </tr>\n",
       "    <tr>\n",
       "      <th>1</th>\n",
       "      <td>Justiça Estadual (TJs)</td>\n",
       "      <td>51,037.19</td>\n",
       "      <td>49,669.53</td>\n",
       "      <td>-0.03</td>\n",
       "    </tr>\n",
       "    <tr>\n",
       "      <th>2</th>\n",
       "      <td>Justiça Federal (TRFs)</td>\n",
       "      <td>45,258.97</td>\n",
       "      <td>51,514.31</td>\n",
       "      <td>0.14</td>\n",
       "    </tr>\n",
       "    <tr>\n",
       "      <th>3</th>\n",
       "      <td>Justiça Militar (TJMMG, TJMSP, TJMRS)</td>\n",
       "      <td>51,856.31</td>\n",
       "      <td>59,962.80</td>\n",
       "      <td>0.16</td>\n",
       "    </tr>\n",
       "    <tr>\n",
       "      <th>4</th>\n",
       "      <td>Justiça do Trabalho (TRTs)</td>\n",
       "      <td>44,050.97</td>\n",
       "      <td>41,793.97</td>\n",
       "      <td>-0.05</td>\n",
       "    </tr>\n",
       "    <tr>\n",
       "      <th>5</th>\n",
       "      <td>Superiores (STJ, TSE, STM e TST)</td>\n",
       "      <td>45,022.17</td>\n",
       "      <td>46,218.35</td>\n",
       "      <td>0.03</td>\n",
       "    </tr>\n",
       "  </tbody>\n",
       "</table>\n",
       "</div>"
      ],
      "text/plain": [
       "                      Grupo de Tribunais  \\\n",
       "0                                    CNJ   \n",
       "1                 Justiça Estadual (TJs)   \n",
       "2                 Justiça Federal (TRFs)   \n",
       "3  Justiça Militar (TJMMG, TJMSP, TJMRS)   \n",
       "4             Justiça do Trabalho (TRTs)   \n",
       "5       Superiores (STJ, TSE, STM e TST)   \n",
       "\n",
       "   Remuneração Bruta Mensal Média em 2019  \\\n",
       "0                               62,634.50   \n",
       "1                               51,037.19   \n",
       "2                               45,258.97   \n",
       "3                               51,856.31   \n",
       "4                               44,050.97   \n",
       "5                               45,022.17   \n",
       "\n",
       "   Remuneração Bruta Mensal Média em 2020  \\\n",
       "0                               55,686.22   \n",
       "1                               49,669.53   \n",
       "2                               51,514.31   \n",
       "3                               59,962.80   \n",
       "4                               41,793.97   \n",
       "5                               46,218.35   \n",
       "\n",
       "   Variação % entre 2019 e 2020 - Bruta  \n",
       "0                                 -0.11  \n",
       "1                                 -0.03  \n",
       "2                                  0.14  \n",
       "3                                  0.16  \n",
       "4                                 -0.05  \n",
       "5                                  0.03  "
      ]
     },
     "execution_count": 21,
     "metadata": {},
     "output_type": "execute_result"
    }
   ],
   "source": [
    "df_folha_resumida_grupo_tribunal[['Grupo de Tribunais', 'Remuneração Bruta Mensal Média em 2019', 'Remuneração Bruta Mensal Média em 2020', 'Variação % entre 2019 e 2020 - Bruta']]\n"
   ]
  },
  {
   "cell_type": "code",
   "execution_count": 22,
   "id": "alert-sacramento",
   "metadata": {
    "scrolled": true
   },
   "outputs": [
    {
     "data": {
      "text/html": [
       "<div>\n",
       "<style scoped>\n",
       "    .dataframe tbody tr th:only-of-type {\n",
       "        vertical-align: middle;\n",
       "    }\n",
       "\n",
       "    .dataframe tbody tr th {\n",
       "        vertical-align: top;\n",
       "    }\n",
       "\n",
       "    .dataframe thead th {\n",
       "        text-align: right;\n",
       "    }\n",
       "</style>\n",
       "<table border=\"1\" class=\"dataframe\">\n",
       "  <thead>\n",
       "    <tr style=\"text-align: right;\">\n",
       "      <th></th>\n",
       "      <th>Grupo de Tribunais</th>\n",
       "      <th>Remuneração Líquida Mensal Média em 2019</th>\n",
       "      <th>Remuneração Líquida Mensal Média em 2020</th>\n",
       "      <th>Variação % entre 2019 e 2020 - Líquida</th>\n",
       "    </tr>\n",
       "  </thead>\n",
       "  <tbody>\n",
       "    <tr>\n",
       "      <th>0</th>\n",
       "      <td>CNJ</td>\n",
       "      <td>56,475.30</td>\n",
       "      <td>48,210.24</td>\n",
       "      <td>-0.15</td>\n",
       "    </tr>\n",
       "    <tr>\n",
       "      <th>1</th>\n",
       "      <td>Justiça Estadual (TJs)</td>\n",
       "      <td>37,156.26</td>\n",
       "      <td>35,666.76</td>\n",
       "      <td>-0.04</td>\n",
       "    </tr>\n",
       "    <tr>\n",
       "      <th>2</th>\n",
       "      <td>Justiça Federal (TRFs)</td>\n",
       "      <td>30,344.39</td>\n",
       "      <td>34,348.54</td>\n",
       "      <td>0.13</td>\n",
       "    </tr>\n",
       "    <tr>\n",
       "      <th>3</th>\n",
       "      <td>Justiça Militar (TJMMG, TJMSP, TJMRS)</td>\n",
       "      <td>37,157.92</td>\n",
       "      <td>44,454.41</td>\n",
       "      <td>0.20</td>\n",
       "    </tr>\n",
       "    <tr>\n",
       "      <th>4</th>\n",
       "      <td>Justiça do Trabalho (TRTs)</td>\n",
       "      <td>31,658.58</td>\n",
       "      <td>28,477.83</td>\n",
       "      <td>-0.10</td>\n",
       "    </tr>\n",
       "    <tr>\n",
       "      <th>5</th>\n",
       "      <td>Superiores (STJ, TSE, STM e TST)</td>\n",
       "      <td>32,630.46</td>\n",
       "      <td>31,820.10</td>\n",
       "      <td>-0.02</td>\n",
       "    </tr>\n",
       "  </tbody>\n",
       "</table>\n",
       "</div>"
      ],
      "text/plain": [
       "                      Grupo de Tribunais  \\\n",
       "0                                    CNJ   \n",
       "1                 Justiça Estadual (TJs)   \n",
       "2                 Justiça Federal (TRFs)   \n",
       "3  Justiça Militar (TJMMG, TJMSP, TJMRS)   \n",
       "4             Justiça do Trabalho (TRTs)   \n",
       "5       Superiores (STJ, TSE, STM e TST)   \n",
       "\n",
       "   Remuneração Líquida Mensal Média em 2019  \\\n",
       "0                                 56,475.30   \n",
       "1                                 37,156.26   \n",
       "2                                 30,344.39   \n",
       "3                                 37,157.92   \n",
       "4                                 31,658.58   \n",
       "5                                 32,630.46   \n",
       "\n",
       "   Remuneração Líquida Mensal Média em 2020  \\\n",
       "0                                 48,210.24   \n",
       "1                                 35,666.76   \n",
       "2                                 34,348.54   \n",
       "3                                 44,454.41   \n",
       "4                                 28,477.83   \n",
       "5                                 31,820.10   \n",
       "\n",
       "   Variação % entre 2019 e 2020 - Líquida  \n",
       "0                                   -0.15  \n",
       "1                                   -0.04  \n",
       "2                                    0.13  \n",
       "3                                    0.20  \n",
       "4                                   -0.10  \n",
       "5                                   -0.02  "
      ]
     },
     "execution_count": 22,
     "metadata": {},
     "output_type": "execute_result"
    }
   ],
   "source": [
    "df_folha_resumida_grupo_tribunal[['Grupo de Tribunais', 'Remuneração Líquida Mensal Média em 2019', 'Remuneração Líquida Mensal Média em 2020', 'Variação % entre 2019 e 2020 - Líquida']]\n"
   ]
  },
  {
   "cell_type": "code",
   "execution_count": 23,
   "id": "military-ireland",
   "metadata": {},
   "outputs": [
    {
     "data": {
      "text/plain": [
       "35156.466708749664"
      ]
     },
     "execution_count": 23,
     "metadata": {},
     "output_type": "execute_result"
    }
   ],
   "source": [
    "df_folha_resumida_[df_folha_resumida_['ano'] == '2019']['remuneracao_liquida'].mean()"
   ]
  },
  {
   "cell_type": "code",
   "execution_count": 24,
   "id": "french-intensity",
   "metadata": {},
   "outputs": [
    {
     "data": {
      "text/plain": [
       "34000.443146309735"
      ]
     },
     "execution_count": 24,
     "metadata": {},
     "output_type": "execute_result"
    }
   ],
   "source": [
    "df_folha_resumida_[df_folha_resumida_['ano'] == '2020']['remuneracao_liquida'].mean()"
   ]
  },
  {
   "cell_type": "code",
   "execution_count": 25,
   "id": "thousand-flashing",
   "metadata": {},
   "outputs": [
    {
     "data": {
      "text/plain": [
       "48772.629521753064"
      ]
     },
     "execution_count": 25,
     "metadata": {},
     "output_type": "execute_result"
    }
   ],
   "source": [
    "df_folha_resumida_[df_folha_resumida_['ano'] == '2019']['remuneracao_bruta'].mean()"
   ]
  },
  {
   "cell_type": "code",
   "execution_count": 26,
   "id": "lucky-husband",
   "metadata": {},
   "outputs": [
    {
     "data": {
      "text/plain": [
       "48215.3999892845"
      ]
     },
     "execution_count": 26,
     "metadata": {},
     "output_type": "execute_result"
    }
   ],
   "source": [
    "df_folha_resumida_[df_folha_resumida_['ano'] == '2020']['remuneracao_bruta'].mean()"
   ]
  },
  {
   "cell_type": "markdown",
   "id": "norman-bahamas",
   "metadata": {},
   "source": [
    "##### 2.3. Variação da remuneração média anual, entre 2019 e 2020, por magistrado"
   ]
  },
  {
   "cell_type": "code",
   "execution_count": 27,
   "id": "gross-cemetery",
   "metadata": {
    "scrolled": true
   },
   "outputs": [],
   "source": [
    "df_folha_resumida_pivot = df_folha_resumida_[['Magistrado', 'Tribunal', 'grupo_tribunal', 'ano', 'remuneracao_bruta', 'remuneracao_liquida']].pivot_table(index = ['Magistrado', 'Tribunal', 'grupo_tribunal'], columns = ['ano']).reset_index()\n"
   ]
  },
  {
   "cell_type": "code",
   "execution_count": 28,
   "id": "level-samuel",
   "metadata": {},
   "outputs": [
    {
     "data": {
      "text/plain": [
       "[('Magistrado', ''),\n",
       " ('Tribunal', ''),\n",
       " ('grupo_tribunal', ''),\n",
       " ('remuneracao_bruta', '2019'),\n",
       " ('remuneracao_bruta', '2020'),\n",
       " ('remuneracao_liquida', '2019'),\n",
       " ('remuneracao_liquida', '2020')]"
      ]
     },
     "execution_count": 28,
     "metadata": {},
     "output_type": "execute_result"
    }
   ],
   "source": [
    "list(df_folha_resumida_pivot)"
   ]
  },
  {
   "cell_type": "code",
   "execution_count": 30,
   "id": "technical-beijing",
   "metadata": {},
   "outputs": [],
   "source": [
    "df_folha_resumida_pivot = df_folha_resumida_[['Magistrado', 'Tribunal', 'grupo_tribunal', 'ano', 'remuneracao_bruta', 'remuneracao_liquida']].pivot_table(index = ['Magistrado', 'Tribunal', 'grupo_tribunal'], columns = ['ano']).reset_index()\n",
    "df_folha_resumida_pivot.columns = ['Magistrado', 'Tribunal', 'grupo_tribunal', '2019_bruta', '2020_bruta', '2019_liquida', '2020_liquida']\n",
    "df_folha_resumida_pivot['var_19_20_bruta'] = (df_folha_resumida_pivot['2020_bruta']/df_folha_resumida_pivot['2019_bruta'])-1\n",
    "df_folha_resumida_pivot['var_19_20_liquida'] = (df_folha_resumida_pivot['2020_liquida']/df_folha_resumida_pivot['2019_liquida'])-1\n"
   ]
  },
  {
   "cell_type": "code",
   "execution_count": 31,
   "id": "educational-production",
   "metadata": {},
   "outputs": [
    {
     "data": {
      "text/html": [
       "<div>\n",
       "<style scoped>\n",
       "    .dataframe tbody tr th:only-of-type {\n",
       "        vertical-align: middle;\n",
       "    }\n",
       "\n",
       "    .dataframe tbody tr th {\n",
       "        vertical-align: top;\n",
       "    }\n",
       "\n",
       "    .dataframe thead th {\n",
       "        text-align: right;\n",
       "    }\n",
       "</style>\n",
       "<table border=\"1\" class=\"dataframe\">\n",
       "  <thead>\n",
       "    <tr style=\"text-align: right;\">\n",
       "      <th></th>\n",
       "      <th>var_19_20_bruta</th>\n",
       "      <th>var_19_20_liquida</th>\n",
       "    </tr>\n",
       "    <tr>\n",
       "      <th>grupo_tribunal</th>\n",
       "      <th></th>\n",
       "      <th></th>\n",
       "    </tr>\n",
       "  </thead>\n",
       "  <tbody>\n",
       "    <tr>\n",
       "      <th>CNJ</th>\n",
       "      <td>-0.09</td>\n",
       "      <td>-0.08</td>\n",
       "    </tr>\n",
       "    <tr>\n",
       "      <th>Justiça Estadual (TJs)</th>\n",
       "      <td>0.04</td>\n",
       "      <td>0.03</td>\n",
       "    </tr>\n",
       "    <tr>\n",
       "      <th>Justiça Federal (TRFs)</th>\n",
       "      <td>0.16</td>\n",
       "      <td>0.15</td>\n",
       "    </tr>\n",
       "    <tr>\n",
       "      <th>Justiça Militar (TJMMG, TJMSP, TJMRS)</th>\n",
       "      <td>0.09</td>\n",
       "      <td>0.11</td>\n",
       "    </tr>\n",
       "    <tr>\n",
       "      <th>Justiça do Trabalho (TRTs)</th>\n",
       "      <td>-0.04</td>\n",
       "      <td>-0.08</td>\n",
       "    </tr>\n",
       "    <tr>\n",
       "      <th>Superiores (STJ, TSE, STM e TST)</th>\n",
       "      <td>0.03</td>\n",
       "      <td>-0.02</td>\n",
       "    </tr>\n",
       "  </tbody>\n",
       "</table>\n",
       "</div>"
      ],
      "text/plain": [
       "                                       var_19_20_bruta  var_19_20_liquida\n",
       "grupo_tribunal                                                           \n",
       "CNJ                                              -0.09              -0.08\n",
       "Justiça Estadual (TJs)                            0.04               0.03\n",
       "Justiça Federal (TRFs)                            0.16               0.15\n",
       "Justiça Militar (TJMMG, TJMSP, TJMRS)             0.09               0.11\n",
       "Justiça do Trabalho (TRTs)                       -0.04              -0.08\n",
       "Superiores (STJ, TSE, STM e TST)                  0.03              -0.02"
      ]
     },
     "execution_count": 31,
     "metadata": {},
     "output_type": "execute_result"
    }
   ],
   "source": [
    "df_folha_resumida_pivot[['grupo_tribunal', 'var_19_20_bruta', 'var_19_20_liquida']].pivot_table(index = ['grupo_tribunal'])"
   ]
  },
  {
   "cell_type": "code",
   "execution_count": 32,
   "id": "accurate-moore",
   "metadata": {},
   "outputs": [
    {
     "data": {
      "text/plain": [
       "0.03414153803287967"
      ]
     },
     "execution_count": 32,
     "metadata": {},
     "output_type": "execute_result"
    }
   ],
   "source": [
    "df_folha_resumida_pivot['var_19_20_bruta'].mean()"
   ]
  },
  {
   "cell_type": "code",
   "execution_count": 33,
   "id": "fancy-congo",
   "metadata": {},
   "outputs": [
    {
     "data": {
      "text/plain": [
       "0.020732219155861334"
      ]
     },
     "execution_count": 33,
     "metadata": {},
     "output_type": "execute_result"
    }
   ],
   "source": [
    "df_folha_resumida_pivot['var_19_20_liquida'].mean()"
   ]
  },
  {
   "cell_type": "markdown",
   "id": "short-distributor",
   "metadata": {},
   "source": [
    "##### 2.4. Cumprimento do teto salarial"
   ]
  },
  {
   "cell_type": "code",
   "execution_count": 34,
   "id": "imposed-millennium",
   "metadata": {},
   "outputs": [
    {
     "data": {
      "text/html": [
       "<div>\n",
       "<style scoped>\n",
       "    .dataframe tbody tr th:only-of-type {\n",
       "        vertical-align: middle;\n",
       "    }\n",
       "\n",
       "    .dataframe tbody tr th {\n",
       "        vertical-align: top;\n",
       "    }\n",
       "\n",
       "    .dataframe thead th {\n",
       "        text-align: right;\n",
       "    }\n",
       "</style>\n",
       "<table border=\"1\" class=\"dataframe\">\n",
       "  <thead>\n",
       "    <tr style=\"text-align: right;\">\n",
       "      <th></th>\n",
       "      <th>Tribunal</th>\n",
       "      <th>remuneracao_bruta</th>\n",
       "      <th>vl_maior_teto</th>\n",
       "      <th>dummy_maior_teto</th>\n",
       "      <th>perc_vl_maior_teto</th>\n",
       "    </tr>\n",
       "  </thead>\n",
       "  <tbody>\n",
       "    <tr>\n",
       "      <th>2690</th>\n",
       "      <td>TJPE</td>\n",
       "      <td>45,986.81</td>\n",
       "      <td>6,693.81</td>\n",
       "      <td>True</td>\n",
       "      <td>0.17</td>\n",
       "    </tr>\n",
       "    <tr>\n",
       "      <th>10639</th>\n",
       "      <td>TRT15</td>\n",
       "      <td>56,163.92</td>\n",
       "      <td>16,870.92</td>\n",
       "      <td>True</td>\n",
       "      <td>0.43</td>\n",
       "    </tr>\n",
       "    <tr>\n",
       "      <th>104586</th>\n",
       "      <td>TJSP</td>\n",
       "      <td>100,540.70</td>\n",
       "      <td>61,247.70</td>\n",
       "      <td>True</td>\n",
       "      <td>1.56</td>\n",
       "    </tr>\n",
       "    <tr>\n",
       "      <th>19333</th>\n",
       "      <td>TRT3</td>\n",
       "      <td>38,304.99</td>\n",
       "      <td>0.00</td>\n",
       "      <td>False</td>\n",
       "      <td>0.00</td>\n",
       "    </tr>\n",
       "    <tr>\n",
       "      <th>1022</th>\n",
       "      <td>TRT11</td>\n",
       "      <td>33,689.11</td>\n",
       "      <td>0.00</td>\n",
       "      <td>False</td>\n",
       "      <td>0.00</td>\n",
       "    </tr>\n",
       "    <tr>\n",
       "      <th>8543</th>\n",
       "      <td>TRF5</td>\n",
       "      <td>40,633.40</td>\n",
       "      <td>1,340.40</td>\n",
       "      <td>True</td>\n",
       "      <td>0.03</td>\n",
       "    </tr>\n",
       "    <tr>\n",
       "      <th>1421</th>\n",
       "      <td>TRT3</td>\n",
       "      <td>34,599.19</td>\n",
       "      <td>0.00</td>\n",
       "      <td>False</td>\n",
       "      <td>0.00</td>\n",
       "    </tr>\n",
       "    <tr>\n",
       "      <th>4690</th>\n",
       "      <td>TRT6</td>\n",
       "      <td>34,599.19</td>\n",
       "      <td>0.00</td>\n",
       "      <td>False</td>\n",
       "      <td>0.00</td>\n",
       "    </tr>\n",
       "    <tr>\n",
       "      <th>33014</th>\n",
       "      <td>TJPR</td>\n",
       "      <td>52,783.29</td>\n",
       "      <td>13,490.29</td>\n",
       "      <td>True</td>\n",
       "      <td>0.34</td>\n",
       "    </tr>\n",
       "    <tr>\n",
       "      <th>116701</th>\n",
       "      <td>TJSP</td>\n",
       "      <td>57,108.50</td>\n",
       "      <td>17,815.50</td>\n",
       "      <td>True</td>\n",
       "      <td>0.45</td>\n",
       "    </tr>\n",
       "  </tbody>\n",
       "</table>\n",
       "</div>"
      ],
      "text/plain": [
       "       Tribunal  remuneracao_bruta  vl_maior_teto  dummy_maior_teto  \\\n",
       "2690       TJPE          45,986.81       6,693.81              True   \n",
       "10639     TRT15          56,163.92      16,870.92              True   \n",
       "104586     TJSP         100,540.70      61,247.70              True   \n",
       "19333      TRT3          38,304.99           0.00             False   \n",
       "1022      TRT11          33,689.11           0.00             False   \n",
       "8543       TRF5          40,633.40       1,340.40              True   \n",
       "1421       TRT3          34,599.19           0.00             False   \n",
       "4690       TRT6          34,599.19           0.00             False   \n",
       "33014      TJPR          52,783.29      13,490.29              True   \n",
       "116701     TJSP          57,108.50      17,815.50              True   \n",
       "\n",
       "        perc_vl_maior_teto  \n",
       "2690                  0.17  \n",
       "10639                 0.43  \n",
       "104586                1.56  \n",
       "19333                 0.00  \n",
       "1022                  0.00  \n",
       "8543                  0.03  \n",
       "1421                  0.00  \n",
       "4690                  0.00  \n",
       "33014                 0.34  \n",
       "116701                0.45  "
      ]
     },
     "execution_count": 34,
     "metadata": {},
     "output_type": "execute_result"
    }
   ],
   "source": [
    "teto = 39293\n",
    "df_folha_resumida_['teto'] = teto\n",
    "\n",
    "def vl_maior_teto(row):\n",
    "    if row['remuneracao_bruta'] > row['teto']:\n",
    "        y = row['remuneracao_bruta'] - row['teto']\n",
    "    else:\n",
    "        y = 0\n",
    "    return y\n",
    "\n",
    "df_folha_resumida_['vl_maior_teto'] = df_folha_resumida_.apply(vl_maior_teto, axis = 1)\n",
    "df_folha_resumida_['dummy_maior_teto'] = df_folha_resumida_['vl_maior_teto'].apply(lambda x: x > 0)\n",
    "df_folha_resumida_['perc_vl_maior_teto'] = df_folha_resumida_['vl_maior_teto']/df_folha_resumida_['teto']\n",
    "df_folha_resumida_[['Tribunal', 'remuneracao_bruta', 'vl_maior_teto', 'dummy_maior_teto', 'perc_vl_maior_teto']].sample(10)\n"
   ]
  },
  {
   "cell_type": "code",
   "execution_count": 35,
   "id": "blank-resolution",
   "metadata": {},
   "outputs": [
    {
     "data": {
      "text/plain": [
       "count   474,671.00\n",
       "mean          0.28\n",
       "std           0.50\n",
       "min           0.00\n",
       "25%           0.00\n",
       "50%           0.05\n",
       "75%           0.38\n",
       "max          32.05\n",
       "Name: perc_vl_maior_teto, dtype: float64"
      ]
     },
     "execution_count": 35,
     "metadata": {},
     "output_type": "execute_result"
    }
   ],
   "source": [
    "df_folha_resumida_['perc_vl_maior_teto'].describe()"
   ]
  },
  {
   "cell_type": "code",
   "execution_count": 36,
   "id": "determined-fishing",
   "metadata": {},
   "outputs": [
    {
     "data": {
      "text/plain": [
       "298194"
      ]
     },
     "execution_count": 36,
     "metadata": {},
     "output_type": "execute_result"
    }
   ],
   "source": [
    "len(df_folha_resumida_[df_folha_resumida_['dummy_maior_teto'] == True])"
   ]
  },
  {
   "cell_type": "code",
   "execution_count": 37,
   "id": "damaged-florida",
   "metadata": {},
   "outputs": [
    {
     "data": {
      "text/plain": [
       "0.6282119615481039"
      ]
     },
     "execution_count": 37,
     "metadata": {},
     "output_type": "execute_result"
    }
   ],
   "source": [
    "len(df_folha_resumida_[df_folha_resumida_['dummy_maior_teto'] == True])/len(df_folha_resumida_)"
   ]
  },
  {
   "cell_type": "code",
   "execution_count": 38,
   "id": "eastern-layout",
   "metadata": {},
   "outputs": [
    {
     "data": {
      "text/html": [
       "<div>\n",
       "<style scoped>\n",
       "    .dataframe tbody tr th:only-of-type {\n",
       "        vertical-align: middle;\n",
       "    }\n",
       "\n",
       "    .dataframe tbody tr th {\n",
       "        vertical-align: top;\n",
       "    }\n",
       "\n",
       "    .dataframe thead th {\n",
       "        text-align: right;\n",
       "    }\n",
       "</style>\n",
       "<table border=\"1\" class=\"dataframe\">\n",
       "  <thead>\n",
       "    <tr style=\"text-align: right;\">\n",
       "      <th></th>\n",
       "      <th>Grupo de Tribunais</th>\n",
       "      <th>Número de Folhas Acima do Teto</th>\n",
       "      <th>Número de Folhas</th>\n",
       "      <th>Percentual de Folhas Acima do Teto</th>\n",
       "    </tr>\n",
       "  </thead>\n",
       "  <tbody>\n",
       "    <tr>\n",
       "      <th>0</th>\n",
       "      <td>CNJ</td>\n",
       "      <td>83</td>\n",
       "      <td>91</td>\n",
       "      <td>0.91</td>\n",
       "    </tr>\n",
       "    <tr>\n",
       "      <th>1</th>\n",
       "      <td>Justiça Estadual (TJs)</td>\n",
       "      <td>212163</td>\n",
       "      <td>314034</td>\n",
       "      <td>0.68</td>\n",
       "    </tr>\n",
       "    <tr>\n",
       "      <th>2</th>\n",
       "      <td>Justiça Federal (TRFs)</td>\n",
       "      <td>39405</td>\n",
       "      <td>49251</td>\n",
       "      <td>0.80</td>\n",
       "    </tr>\n",
       "    <tr>\n",
       "      <th>3</th>\n",
       "      <td>Justiça Militar (TJMMG, TJMSP, TJMRS)</td>\n",
       "      <td>826</td>\n",
       "      <td>1036</td>\n",
       "      <td>0.80</td>\n",
       "    </tr>\n",
       "    <tr>\n",
       "      <th>4</th>\n",
       "      <td>Justiça do Trabalho (TRTs)</td>\n",
       "      <td>43615</td>\n",
       "      <td>106689</td>\n",
       "      <td>0.41</td>\n",
       "    </tr>\n",
       "    <tr>\n",
       "      <th>5</th>\n",
       "      <td>Superiores (STJ, TSE, STM e TST)</td>\n",
       "      <td>2102</td>\n",
       "      <td>3570</td>\n",
       "      <td>0.59</td>\n",
       "    </tr>\n",
       "  </tbody>\n",
       "</table>\n",
       "</div>"
      ],
      "text/plain": [
       "                      Grupo de Tribunais  Número de Folhas Acima do Teto  \\\n",
       "0                                    CNJ                              83   \n",
       "1                 Justiça Estadual (TJs)                          212163   \n",
       "2                 Justiça Federal (TRFs)                           39405   \n",
       "3  Justiça Militar (TJMMG, TJMSP, TJMRS)                             826   \n",
       "4             Justiça do Trabalho (TRTs)                           43615   \n",
       "5       Superiores (STJ, TSE, STM e TST)                            2102   \n",
       "\n",
       "   Número de Folhas  Percentual de Folhas Acima do Teto  \n",
       "0                91                                0.91  \n",
       "1            314034                                0.68  \n",
       "2             49251                                0.80  \n",
       "3              1036                                0.80  \n",
       "4            106689                                0.41  \n",
       "5              3570                                0.59  "
      ]
     },
     "execution_count": 38,
     "metadata": {},
     "output_type": "execute_result"
    }
   ],
   "source": [
    "df_folha_resumida_teto = df_folha_resumida_[['grupo_tribunal', 'Magistrado', 'dummy_maior_teto']].groupby(['grupo_tribunal']).agg({'dummy_maior_teto': 'sum', 'Magistrado': 'count'}).reset_index()\n",
    "df_folha_resumida_teto.columns = ['Grupo de Tribunais', 'Número de Folhas Acima do Teto', 'Número de Folhas']\n",
    "df_folha_resumida_teto['Percentual de Folhas Acima do Teto'] = df_folha_resumida_teto['Número de Folhas Acima do Teto']/df_folha_resumida_teto['Número de Folhas']\n",
    "df_folha_resumida_teto\n"
   ]
  },
  {
   "cell_type": "markdown",
   "id": "compressed-liver",
   "metadata": {},
   "source": [
    "##### 2.5. Principais penduricalhos em 2020"
   ]
  },
  {
   "cell_type": "code",
   "execution_count": 50,
   "id": "worldwide-career",
   "metadata": {
    "scrolled": true
   },
   "outputs": [],
   "source": [
    "df_penduricalhos = pd.concat([pd.melt(df_folha_pessoais_[df_folha_pessoais_['ano'] == '2020'], id_vars = ['Tribunal', 'Magistrado', 'Mês/Ano Ref.'], value_vars = ['Abono de permanência (R$)']),\n",
    "                             pd.melt(df_folha_eventuais_[df_folha_eventuais_['ano'] == '2020'], id_vars = ['Tribunal', 'Magistrado', 'Mês/Ano Ref.'], value_vars = ['Abono constitucional de 1/3 de férias (R$)', 'Indenização de férias (R$)', 'Antecipação de férias (R$)', 'Gratificação natalina (R$)', 'Antecipação de gratificação natalina (R$)', 'Substituição (R$)', 'Gratificação por exercício cumulativo (R$)', 'Gratificação por encargo Curso/Concurso (R$)', 'Pagamentos retroativos (R$)', 'JETON (R$)']),\n",
    "                             pd.melt(df_folha_indenizacoes_[df_folha_indenizacoes_['ano'] == '2020'], id_vars = ['Tribunal', 'Magistrado', 'Mês/Ano Ref.'], value_vars = ['Auxílio-alimentação (R$)', 'Auxílio Pré-escolar (R$)', 'Auxílio Saúde (R$)', 'Auxílio Natalidade (R$)', 'Auxílio Moradia (R$)', 'Ajuda de Custo (R$)'])\n",
    "                            ])\n",
    "\n",
    "df_penduricalhos = df_penduricalhos.rename(columns = {'variable': 'Tipo_Acrescimo_Salarial', 'value': 'Valor'}).reset_index(drop = True)\n"
   ]
  },
  {
   "cell_type": "code",
   "execution_count": 40,
   "id": "burning-charge",
   "metadata": {},
   "outputs": [],
   "source": [
    "# Corrigindo valores registrados como texto\n",
    "def corrige_valor(x):\n",
    "    if x == '-':\n",
    "        y = 0\n",
    "    else:\n",
    "        y = float(str(x).replace(',','.'))\n",
    "    return y\n",
    "\n",
    "df_penduricalhos['Valor'] = df_penduricalhos['Valor'].map(corrige_valor)"
   ]
  },
  {
   "cell_type": "code",
   "execution_count": 41,
   "id": "vanilla-source",
   "metadata": {},
   "outputs": [
    {
     "data": {
      "text/plain": [
       "3937863"
      ]
     },
     "execution_count": 41,
     "metadata": {},
     "output_type": "execute_result"
    }
   ],
   "source": [
    "len(df_penduricalhos)"
   ]
  },
  {
   "cell_type": "code",
   "execution_count": 42,
   "id": "conscious-press",
   "metadata": {},
   "outputs": [
    {
     "data": {
      "text/plain": [
       "{'Abono constitucional de 1/3 de férias (R$)',\n",
       " 'Abono de permanência (R$)',\n",
       " 'Ajuda de Custo (R$)',\n",
       " 'Antecipação de férias (R$)',\n",
       " 'Antecipação de gratificação natalina (R$)',\n",
       " 'Auxílio Moradia (R$)',\n",
       " 'Auxílio Natalidade (R$)',\n",
       " 'Auxílio Pré-escolar (R$)',\n",
       " 'Auxílio Saúde (R$)',\n",
       " 'Auxílio-alimentação (R$)',\n",
       " 'Gratificação natalina (R$)',\n",
       " 'Gratificação por encargo Curso/Concurso (R$)',\n",
       " 'Gratificação por exercício cumulativo (R$)',\n",
       " 'Indenização de férias (R$)',\n",
       " 'JETON (R$)',\n",
       " 'Pagamentos retroativos (R$)',\n",
       " 'Substituição (R$)'}"
      ]
     },
     "execution_count": 42,
     "metadata": {},
     "output_type": "execute_result"
    }
   ],
   "source": [
    "set(df_penduricalhos['Tipo_Acrescimo_Salarial'])"
   ]
  },
  {
   "cell_type": "code",
   "execution_count": 43,
   "id": "supreme-purple",
   "metadata": {
    "scrolled": true
   },
   "outputs": [
    {
     "data": {
      "text/html": [
       "<div>\n",
       "<style scoped>\n",
       "    .dataframe tbody tr th:only-of-type {\n",
       "        vertical-align: middle;\n",
       "    }\n",
       "\n",
       "    .dataframe tbody tr th {\n",
       "        vertical-align: top;\n",
       "    }\n",
       "\n",
       "    .dataframe thead th {\n",
       "        text-align: right;\n",
       "    }\n",
       "</style>\n",
       "<table border=\"1\" class=\"dataframe\">\n",
       "  <thead>\n",
       "    <tr style=\"text-align: right;\">\n",
       "      <th></th>\n",
       "      <th>Tipo_Acrescimo_Salarial</th>\n",
       "      <th>Valor</th>\n",
       "    </tr>\n",
       "  </thead>\n",
       "  <tbody>\n",
       "    <tr>\n",
       "      <th>10</th>\n",
       "      <td>Gratificação natalina (R$)</td>\n",
       "      <td>566,834,658.45</td>\n",
       "    </tr>\n",
       "    <tr>\n",
       "      <th>15</th>\n",
       "      <td>Pagamentos retroativos (R$)</td>\n",
       "      <td>564,570,501.50</td>\n",
       "    </tr>\n",
       "    <tr>\n",
       "      <th>13</th>\n",
       "      <td>Indenização de férias (R$)</td>\n",
       "      <td>448,093,993.29</td>\n",
       "    </tr>\n",
       "    <tr>\n",
       "      <th>12</th>\n",
       "      <td>Gratificação por exercício cumulativo (R$)</td>\n",
       "      <td>375,929,749.34</td>\n",
       "    </tr>\n",
       "    <tr>\n",
       "      <th>0</th>\n",
       "      <td>Abono constitucional de 1/3 de férias (R$)</td>\n",
       "      <td>230,140,542.38</td>\n",
       "    </tr>\n",
       "    <tr>\n",
       "      <th>1</th>\n",
       "      <td>Abono de permanência (R$)</td>\n",
       "      <td>197,530,030.85</td>\n",
       "    </tr>\n",
       "    <tr>\n",
       "      <th>9</th>\n",
       "      <td>Auxílio-alimentação (R$)</td>\n",
       "      <td>181,669,608.94</td>\n",
       "    </tr>\n",
       "    <tr>\n",
       "      <th>4</th>\n",
       "      <td>Antecipação de gratificação natalina (R$)</td>\n",
       "      <td>170,812,443.74</td>\n",
       "    </tr>\n",
       "    <tr>\n",
       "      <th>8</th>\n",
       "      <td>Auxílio Saúde (R$)</td>\n",
       "      <td>143,131,339.77</td>\n",
       "    </tr>\n",
       "    <tr>\n",
       "      <th>16</th>\n",
       "      <td>Substituição (R$)</td>\n",
       "      <td>54,313,940.59</td>\n",
       "    </tr>\n",
       "    <tr>\n",
       "      <th>3</th>\n",
       "      <td>Antecipação de férias (R$)</td>\n",
       "      <td>46,877,183.04</td>\n",
       "    </tr>\n",
       "    <tr>\n",
       "      <th>5</th>\n",
       "      <td>Auxílio Moradia (R$)</td>\n",
       "      <td>22,441,370.99</td>\n",
       "    </tr>\n",
       "    <tr>\n",
       "      <th>2</th>\n",
       "      <td>Ajuda de Custo (R$)</td>\n",
       "      <td>21,593,105.92</td>\n",
       "    </tr>\n",
       "    <tr>\n",
       "      <th>7</th>\n",
       "      <td>Auxílio Pré-escolar (R$)</td>\n",
       "      <td>18,896,258.21</td>\n",
       "    </tr>\n",
       "    <tr>\n",
       "      <th>6</th>\n",
       "      <td>Auxílio Natalidade (R$)</td>\n",
       "      <td>7,517,540.65</td>\n",
       "    </tr>\n",
       "    <tr>\n",
       "      <th>11</th>\n",
       "      <td>Gratificação por encargo Curso/Concurso (R$)</td>\n",
       "      <td>2,242,024.79</td>\n",
       "    </tr>\n",
       "    <tr>\n",
       "      <th>14</th>\n",
       "      <td>JETON (R$)</td>\n",
       "      <td>1,128,548.54</td>\n",
       "    </tr>\n",
       "  </tbody>\n",
       "</table>\n",
       "</div>"
      ],
      "text/plain": [
       "                         Tipo_Acrescimo_Salarial          Valor\n",
       "10                    Gratificação natalina (R$) 566,834,658.45\n",
       "15                   Pagamentos retroativos (R$) 564,570,501.50\n",
       "13                    Indenização de férias (R$) 448,093,993.29\n",
       "12    Gratificação por exercício cumulativo (R$) 375,929,749.34\n",
       "0     Abono constitucional de 1/3 de férias (R$) 230,140,542.38\n",
       "1                      Abono de permanência (R$) 197,530,030.85\n",
       "9                       Auxílio-alimentação (R$) 181,669,608.94\n",
       "4      Antecipação de gratificação natalina (R$) 170,812,443.74\n",
       "8                             Auxílio Saúde (R$) 143,131,339.77\n",
       "16                             Substituição (R$)  54,313,940.59\n",
       "3                     Antecipação de férias (R$)  46,877,183.04\n",
       "5                           Auxílio Moradia (R$)  22,441,370.99\n",
       "2                            Ajuda de Custo (R$)  21,593,105.92\n",
       "7                       Auxílio Pré-escolar (R$)  18,896,258.21\n",
       "6                        Auxílio Natalidade (R$)   7,517,540.65\n",
       "11  Gratificação por encargo Curso/Concurso (R$)   2,242,024.79\n",
       "14                                    JETON (R$)   1,128,548.54"
      ]
     },
     "execution_count": 43,
     "metadata": {},
     "output_type": "execute_result"
    }
   ],
   "source": [
    "df_penduricalhos[['Tipo_Acrescimo_Salarial', 'Valor']].groupby(['Tipo_Acrescimo_Salarial']).sum().reset_index().sort_values('Valor', ascending = False)\n"
   ]
  },
  {
   "cell_type": "code",
   "execution_count": 44,
   "id": "grave-immune",
   "metadata": {},
   "outputs": [
    {
     "data": {
      "text/html": [
       "<div>\n",
       "<style scoped>\n",
       "    .dataframe tbody tr th:only-of-type {\n",
       "        vertical-align: middle;\n",
       "    }\n",
       "\n",
       "    .dataframe tbody tr th {\n",
       "        vertical-align: top;\n",
       "    }\n",
       "\n",
       "    .dataframe thead th {\n",
       "        text-align: right;\n",
       "    }\n",
       "</style>\n",
       "<table border=\"1\" class=\"dataframe\">\n",
       "  <thead>\n",
       "    <tr style=\"text-align: right;\">\n",
       "      <th></th>\n",
       "      <th>Tipo_Acrescimo_Salarial</th>\n",
       "      <th>Valor</th>\n",
       "    </tr>\n",
       "  </thead>\n",
       "  <tbody>\n",
       "    <tr>\n",
       "      <th>2</th>\n",
       "      <td>Ajuda de Custo (R$)</td>\n",
       "      <td>485,961.92</td>\n",
       "    </tr>\n",
       "    <tr>\n",
       "      <th>8</th>\n",
       "      <td>Auxílio Saúde (R$)</td>\n",
       "      <td>209,292.14</td>\n",
       "    </tr>\n",
       "    <tr>\n",
       "      <th>5</th>\n",
       "      <td>Auxílio Moradia (R$)</td>\n",
       "      <td>126,910.91</td>\n",
       "    </tr>\n",
       "    <tr>\n",
       "      <th>4</th>\n",
       "      <td>Antecipação de gratificação natalina (R$)</td>\n",
       "      <td>115,234.97</td>\n",
       "    </tr>\n",
       "    <tr>\n",
       "      <th>9</th>\n",
       "      <td>Auxílio-alimentação (R$)</td>\n",
       "      <td>50,054.40</td>\n",
       "    </tr>\n",
       "    <tr>\n",
       "      <th>15</th>\n",
       "      <td>Pagamentos retroativos (R$)</td>\n",
       "      <td>14,953.01</td>\n",
       "    </tr>\n",
       "    <tr>\n",
       "      <th>0</th>\n",
       "      <td>Abono constitucional de 1/3 de férias (R$)</td>\n",
       "      <td>3,048.48</td>\n",
       "    </tr>\n",
       "    <tr>\n",
       "      <th>11</th>\n",
       "      <td>Gratificação por encargo Curso/Concurso (R$)</td>\n",
       "      <td>286.69</td>\n",
       "    </tr>\n",
       "    <tr>\n",
       "      <th>7</th>\n",
       "      <td>Auxílio Pré-escolar (R$)</td>\n",
       "      <td>0.00</td>\n",
       "    </tr>\n",
       "    <tr>\n",
       "      <th>1</th>\n",
       "      <td>Abono de permanência (R$)</td>\n",
       "      <td>0.00</td>\n",
       "    </tr>\n",
       "    <tr>\n",
       "      <th>6</th>\n",
       "      <td>Auxílio Natalidade (R$)</td>\n",
       "      <td>0.00</td>\n",
       "    </tr>\n",
       "    <tr>\n",
       "      <th>10</th>\n",
       "      <td>Gratificação natalina (R$)</td>\n",
       "      <td>0.00</td>\n",
       "    </tr>\n",
       "    <tr>\n",
       "      <th>12</th>\n",
       "      <td>Gratificação por exercício cumulativo (R$)</td>\n",
       "      <td>0.00</td>\n",
       "    </tr>\n",
       "    <tr>\n",
       "      <th>13</th>\n",
       "      <td>Indenização de férias (R$)</td>\n",
       "      <td>0.00</td>\n",
       "    </tr>\n",
       "    <tr>\n",
       "      <th>14</th>\n",
       "      <td>JETON (R$)</td>\n",
       "      <td>0.00</td>\n",
       "    </tr>\n",
       "    <tr>\n",
       "      <th>3</th>\n",
       "      <td>Antecipação de férias (R$)</td>\n",
       "      <td>0.00</td>\n",
       "    </tr>\n",
       "    <tr>\n",
       "      <th>16</th>\n",
       "      <td>Substituição (R$)</td>\n",
       "      <td>0.00</td>\n",
       "    </tr>\n",
       "  </tbody>\n",
       "</table>\n",
       "</div>"
      ],
      "text/plain": [
       "                         Tipo_Acrescimo_Salarial      Valor\n",
       "2                            Ajuda de Custo (R$) 485,961.92\n",
       "8                             Auxílio Saúde (R$) 209,292.14\n",
       "5                           Auxílio Moradia (R$) 126,910.91\n",
       "4      Antecipação de gratificação natalina (R$) 115,234.97\n",
       "9                       Auxílio-alimentação (R$)  50,054.40\n",
       "15                   Pagamentos retroativos (R$)  14,953.01\n",
       "0     Abono constitucional de 1/3 de férias (R$)   3,048.48\n",
       "11  Gratificação por encargo Curso/Concurso (R$)     286.69\n",
       "7                       Auxílio Pré-escolar (R$)       0.00\n",
       "1                      Abono de permanência (R$)       0.00\n",
       "6                        Auxílio Natalidade (R$)       0.00\n",
       "10                    Gratificação natalina (R$)       0.00\n",
       "12    Gratificação por exercício cumulativo (R$)       0.00\n",
       "13                    Indenização de férias (R$)       0.00\n",
       "14                                    JETON (R$)       0.00\n",
       "3                     Antecipação de férias (R$)       0.00\n",
       "16                             Substituição (R$)       0.00"
      ]
     },
     "execution_count": 44,
     "metadata": {},
     "output_type": "execute_result"
    }
   ],
   "source": [
    "df_penduricalhos[df_penduricalhos['Tribunal'] == 'CNJ'][['Tipo_Acrescimo_Salarial', 'Valor']].groupby(['Tipo_Acrescimo_Salarial']).sum().reset_index().sort_values('Valor', ascending = False)\n"
   ]
  },
  {
   "cell_type": "markdown",
   "id": "balanced-desert",
   "metadata": {},
   "source": [
    "##### 2.6. Por que o aumento tao grande nos militares e TRFs?"
   ]
  },
  {
   "cell_type": "code",
   "execution_count": 45,
   "id": "cardiac-letter",
   "metadata": {},
   "outputs": [],
   "source": [
    "df_penduricalhos_19_20 = pd.concat([pd.melt(df_folha_pessoais_[(df_folha_pessoais_['ano'] == '2020') | (df_folha_pessoais_['ano'] == '2019')], id_vars = ['Tribunal', 'Magistrado', 'Mês/Ano Ref.', 'ano'], value_vars = ['Abono de permanência (R$)']),\n",
    "                             pd.melt(df_folha_eventuais_[(df_folha_eventuais_['ano'] == '2020') | (df_folha_eventuais_['ano'] == '2019')], id_vars = ['Tribunal', 'Magistrado', 'Mês/Ano Ref.', 'ano'], value_vars = ['Abono constitucional de 1/3 de férias (R$)', 'Indenização de férias (R$)', 'Antecipação de férias (R$)', 'Gratificação natalina (R$)', 'Antecipação de gratificação natalina (R$)', 'Substituição (R$)', 'Gratificação por exercício cumulativo (R$)', 'Gratificação por encargo Curso/Concurso (R$)', 'Pagamentos retroativos (R$)', 'JETON (R$)']),\n",
    "                             pd.melt(df_folha_indenizacoes_[(df_folha_indenizacoes_['ano'] == '2020') | (df_folha_indenizacoes_['ano'] == '2019')], id_vars = ['Tribunal', 'Magistrado', 'Mês/Ano Ref.', 'ano'], value_vars = ['Auxílio-alimentação (R$)', 'Auxílio Pré-escolar (R$)', 'Auxílio Saúde (R$)', 'Auxílio Natalidade (R$)', 'Auxílio Moradia (R$)', 'Ajuda de Custo (R$)'])\n",
    "                            ])\n",
    "\n",
    "df_penduricalhos_19_20 = df_penduricalhos_19_20.rename(columns = {'variable': 'Tipo_Acrescimo_Salarial', 'value': 'Valor'}).reset_index(drop = True)\n"
   ]
  },
  {
   "cell_type": "code",
   "execution_count": 46,
   "id": "collectible-interference",
   "metadata": {},
   "outputs": [],
   "source": [
    "df_penduricalhos_19_20['Valor'] = df_penduricalhos_19_20['Valor'].map(corrige_valor)\n"
   ]
  },
  {
   "cell_type": "code",
   "execution_count": 47,
   "id": "average-processing",
   "metadata": {},
   "outputs": [],
   "source": [
    "df_penduricalhos_19_20['grupo_tribunal'] = df_penduricalhos_19_20['Tribunal'].map(grupo_tribunal)"
   ]
  },
  {
   "cell_type": "code",
   "execution_count": 48,
   "id": "faced-rugby",
   "metadata": {},
   "outputs": [
    {
     "data": {
      "text/html": [
       "<div>\n",
       "<style scoped>\n",
       "    .dataframe tbody tr th:only-of-type {\n",
       "        vertical-align: middle;\n",
       "    }\n",
       "\n",
       "    .dataframe tbody tr th {\n",
       "        vertical-align: top;\n",
       "    }\n",
       "\n",
       "    .dataframe thead tr th {\n",
       "        text-align: left;\n",
       "    }\n",
       "\n",
       "    .dataframe thead tr:last-of-type th {\n",
       "        text-align: right;\n",
       "    }\n",
       "</style>\n",
       "<table border=\"1\" class=\"dataframe\">\n",
       "  <thead>\n",
       "    <tr>\n",
       "      <th></th>\n",
       "      <th colspan=\"2\" halign=\"left\">Valor</th>\n",
       "      <th>Diferença entre 2019 e 2020</th>\n",
       "    </tr>\n",
       "    <tr>\n",
       "      <th>ano</th>\n",
       "      <th>2019</th>\n",
       "      <th>2020</th>\n",
       "      <th></th>\n",
       "    </tr>\n",
       "    <tr>\n",
       "      <th>Tipo_Acrescimo_Salarial</th>\n",
       "      <th></th>\n",
       "      <th></th>\n",
       "      <th></th>\n",
       "    </tr>\n",
       "  </thead>\n",
       "  <tbody>\n",
       "    <tr>\n",
       "      <th>Pagamentos retroativos (R$)</th>\n",
       "      <td>142.26</td>\n",
       "      <td>5,208.24</td>\n",
       "      <td>5,065.99</td>\n",
       "    </tr>\n",
       "    <tr>\n",
       "      <th>Gratificação natalina (R$)</th>\n",
       "      <td>2,111.77</td>\n",
       "      <td>2,827.26</td>\n",
       "      <td>715.49</td>\n",
       "    </tr>\n",
       "    <tr>\n",
       "      <th>Gratificação por exercício cumulativo (R$)</th>\n",
       "      <td>6,416.71</td>\n",
       "      <td>7,102.52</td>\n",
       "      <td>685.80</td>\n",
       "    </tr>\n",
       "    <tr>\n",
       "      <th>Indenização de férias (R$)</th>\n",
       "      <td>432.00</td>\n",
       "      <td>776.55</td>\n",
       "      <td>344.55</td>\n",
       "    </tr>\n",
       "    <tr>\n",
       "      <th>Abono constitucional de 1/3 de férias (R$)</th>\n",
       "      <td>1,327.82</td>\n",
       "      <td>1,600.04</td>\n",
       "      <td>272.21</td>\n",
       "    </tr>\n",
       "    <tr>\n",
       "      <th>Abono de permanência (R$)</th>\n",
       "      <td>429.41</td>\n",
       "      <td>620.83</td>\n",
       "      <td>191.42</td>\n",
       "    </tr>\n",
       "    <tr>\n",
       "      <th>Antecipação de férias (R$)</th>\n",
       "      <td>386.46</td>\n",
       "      <td>417.18</td>\n",
       "      <td>30.72</td>\n",
       "    </tr>\n",
       "    <tr>\n",
       "      <th>JETON (R$)</th>\n",
       "      <td>0.00</td>\n",
       "      <td>0.00</td>\n",
       "      <td>0.00</td>\n",
       "    </tr>\n",
       "    <tr>\n",
       "      <th>Auxílio Moradia (R$)</th>\n",
       "      <td>0.11</td>\n",
       "      <td>0.01</td>\n",
       "      <td>-0.10</td>\n",
       "    </tr>\n",
       "    <tr>\n",
       "      <th>Auxílio Natalidade (R$)</th>\n",
       "      <td>1.50</td>\n",
       "      <td>1.32</td>\n",
       "      <td>-0.18</td>\n",
       "    </tr>\n",
       "    <tr>\n",
       "      <th>Auxílio Pré-escolar (R$)</th>\n",
       "      <td>164.89</td>\n",
       "      <td>164.03</td>\n",
       "      <td>-0.86</td>\n",
       "    </tr>\n",
       "    <tr>\n",
       "      <th>Auxílio-alimentação (R$)</th>\n",
       "      <td>787.87</td>\n",
       "      <td>784.46</td>\n",
       "      <td>-3.41</td>\n",
       "    </tr>\n",
       "    <tr>\n",
       "      <th>Auxílio Saúde (R$)</th>\n",
       "      <td>168.67</td>\n",
       "      <td>159.80</td>\n",
       "      <td>-8.87</td>\n",
       "    </tr>\n",
       "    <tr>\n",
       "      <th>Ajuda de Custo (R$)</th>\n",
       "      <td>109.03</td>\n",
       "      <td>80.41</td>\n",
       "      <td>-28.62</td>\n",
       "    </tr>\n",
       "    <tr>\n",
       "      <th>Gratificação por encargo Curso/Concurso (R$)</th>\n",
       "      <td>46.80</td>\n",
       "      <td>16.80</td>\n",
       "      <td>-30.00</td>\n",
       "    </tr>\n",
       "    <tr>\n",
       "      <th>Substituição (R$)</th>\n",
       "      <td>230.80</td>\n",
       "      <td>195.71</td>\n",
       "      <td>-35.09</td>\n",
       "    </tr>\n",
       "    <tr>\n",
       "      <th>Antecipação de gratificação natalina (R$)</th>\n",
       "      <td>1,311.84</td>\n",
       "      <td>754.39</td>\n",
       "      <td>-557.45</td>\n",
       "    </tr>\n",
       "  </tbody>\n",
       "</table>\n",
       "</div>"
      ],
      "text/plain": [
       "                                                Valor           \\\n",
       "ano                                              2019     2020   \n",
       "Tipo_Acrescimo_Salarial                                          \n",
       "Pagamentos retroativos (R$)                    142.26 5,208.24   \n",
       "Gratificação natalina (R$)                   2,111.77 2,827.26   \n",
       "Gratificação por exercício cumulativo (R$)   6,416.71 7,102.52   \n",
       "Indenização de férias (R$)                     432.00   776.55   \n",
       "Abono constitucional de 1/3 de férias (R$)   1,327.82 1,600.04   \n",
       "Abono de permanência (R$)                      429.41   620.83   \n",
       "Antecipação de férias (R$)                     386.46   417.18   \n",
       "JETON (R$)                                       0.00     0.00   \n",
       "Auxílio Moradia (R$)                             0.11     0.01   \n",
       "Auxílio Natalidade (R$)                          1.50     1.32   \n",
       "Auxílio Pré-escolar (R$)                       164.89   164.03   \n",
       "Auxílio-alimentação (R$)                       787.87   784.46   \n",
       "Auxílio Saúde (R$)                             168.67   159.80   \n",
       "Ajuda de Custo (R$)                            109.03    80.41   \n",
       "Gratificação por encargo Curso/Concurso (R$)    46.80    16.80   \n",
       "Substituição (R$)                              230.80   195.71   \n",
       "Antecipação de gratificação natalina (R$)    1,311.84   754.39   \n",
       "\n",
       "                                             Diferença entre 2019 e 2020  \n",
       "ano                                                                       \n",
       "Tipo_Acrescimo_Salarial                                                   \n",
       "Pagamentos retroativos (R$)                                     5,065.99  \n",
       "Gratificação natalina (R$)                                        715.49  \n",
       "Gratificação por exercício cumulativo (R$)                        685.80  \n",
       "Indenização de férias (R$)                                        344.55  \n",
       "Abono constitucional de 1/3 de férias (R$)                        272.21  \n",
       "Abono de permanência (R$)                                         191.42  \n",
       "Antecipação de férias (R$)                                         30.72  \n",
       "JETON (R$)                                                          0.00  \n",
       "Auxílio Moradia (R$)                                               -0.10  \n",
       "Auxílio Natalidade (R$)                                            -0.18  \n",
       "Auxílio Pré-escolar (R$)                                           -0.86  \n",
       "Auxílio-alimentação (R$)                                           -3.41  \n",
       "Auxílio Saúde (R$)                                                 -8.87  \n",
       "Ajuda de Custo (R$)                                               -28.62  \n",
       "Gratificação por encargo Curso/Concurso (R$)                      -30.00  \n",
       "Substituição (R$)                                                 -35.09  \n",
       "Antecipação de gratificação natalina (R$)                        -557.45  "
      ]
     },
     "execution_count": 48,
     "metadata": {},
     "output_type": "execute_result"
    }
   ],
   "source": [
    "df_variacao_penduricalhos = df_penduricalhos_19_20[(df_penduricalhos_19_20['grupo_tribunal'] == 'Justiça Militar (TJMMG, TJMSP, TJMRS)') | (df_penduricalhos_19_20['grupo_tribunal'] == 'Justiça Federal (TRFs)')][['Tipo_Acrescimo_Salarial', 'ano', 'Valor']].pivot_table(index = ['Tipo_Acrescimo_Salarial'], columns = ['ano'])\n",
    "df_variacao_penduricalhos['Diferença entre 2019 e 2020'] = df_variacao_penduricalhos['Valor', '2020'] - df_variacao_penduricalhos['Valor', '2019']\n",
    "df_variacao_penduricalhos.sort_values('Diferença entre 2019 e 2020', ascending = False)"
   ]
  },
  {
   "cell_type": "markdown",
   "id": "comic-chrome",
   "metadata": {},
   "source": [
    "##### 2.8. Grandes Números"
   ]
  },
  {
   "cell_type": "code",
   "execution_count": 49,
   "id": "duplicate-lafayette",
   "metadata": {},
   "outputs": [
    {
     "name": "stdout",
     "output_type": "stream",
     "text": [
      "Número de Magistrados, incluindo aposentados, com folha analisada, de 2019 a 2020: 24906\n",
      "Número de Magistrados, incluindo aposentados, com folha analisada, em 2020: 21602\n",
      "Número de folhas analisadas, de 2019 a 2020: 474671\n",
      "Número de folhas analisadas, em 2020: 226925\n"
     ]
    }
   ],
   "source": [
    "print('Número de Magistrados, incluindo aposentados, com folha analisada, de 2019 a 2020: ' + str(len(set(df_folha_resumida_['Magistrado']))))\n",
    "print('Número de Magistrados, incluindo aposentados, com folha analisada, em 2020: ' + str(len(set(df_folha_resumida_[df_folha_resumida_['ano'] == '2020']['Magistrado']))))\n",
    "print('Número de folhas analisadas, de 2019 a 2020: ' + str(len(df_folha_resumida_)))\n",
    "print('Número de folhas analisadas, em 2020: ' + str(len(df_folha_resumida_[df_folha_resumida_['ano'] == '2020'])))\n"
   ]
  },
  {
   "cell_type": "code",
   "execution_count": null,
   "id": "protective-technology",
   "metadata": {},
   "outputs": [],
   "source": []
  }
 ],
 "metadata": {
  "kernelspec": {
   "display_name": "Python 3",
   "language": "python",
   "name": "python3"
  },
  "language_info": {
   "codemirror_mode": {
    "name": "ipython",
    "version": 3
   },
   "file_extension": ".py",
   "mimetype": "text/x-python",
   "name": "python",
   "nbconvert_exporter": "python",
   "pygments_lexer": "ipython3",
   "version": "3.7.1"
  }
 },
 "nbformat": 4,
 "nbformat_minor": 5
}
